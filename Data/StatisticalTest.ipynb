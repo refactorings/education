{
 "cells": [
  {
   "cell_type": "code",
   "execution_count": 20,
   "metadata": {},
   "outputs": [],
   "source": [
    "# To easily run all cells in Jupyter\n",
    "# Cell -> Run All\n",
    "\n",
    "import pandas as pd\n",
    "import scipy\n",
    "from scipy import stats\n",
    "from cliffs_delta import cliffs_delta\n",
    "\n",
    "\n",
    "\n",
    "# Import the metrics data\n",
    "\n",
    "LCOM = pd.read_csv('LCOM.csv')\n",
    "CBO = pd.read_csv('CBO.csv')\n",
    "RFC = pd.read_csv('RFC.csv')\n",
    "NII = pd.read_csv('NII.csv')\n",
    "NOI = pd.read_csv('NOI.csv')\n",
    "CC = pd.read_csv('CC.csv')\n",
    "WMC = pd.read_csv('WMC.csv')\n",
    "NL = pd.read_csv('NL.csv')\n",
    "NLE = pd.read_csv('NLE.csv')\n",
    "HCPL = pd.read_csv('HCPL.csv')\n",
    "HDIF = pd.read_csv('HDIF.csv')\n",
    "HEFF = pd.read_csv('HEFF.csv')\n",
    "HNDB = pd.read_csv('HNDB.csv')\n",
    "HPL = pd.read_csv('HPL.csv')\n",
    "HPV = pd.read_csv('HPV.csv')\n",
    "HTRP = pd.read_csv('HTRP.csv')\n",
    "HVOL = pd.read_csv('HVOL.csv')\n",
    "MIMS = pd.read_csv('MIMS.csv')\n",
    "MI = pd.read_csv('MI.csv')\n",
    "MISEI = pd.read_csv('MISEI.csv')\n",
    "MISM = pd.read_csv('MISM.csv')\n",
    "DIT = pd.read_csv('DIT.csv')\n",
    "NOC = pd.read_csv('NOC.csv')\n",
    "NOA = pd.read_csv('NOA.csv')\n",
    "LOC = pd.read_csv('LOC.csv')\n",
    "TLOC = pd.read_csv('TLOC.csv')\n",
    "LLOC = pd.read_csv('LLOC.csv')\n",
    "TLLOC = pd.read_csv('TLLOC.csv')\n",
    "CLOC = pd.read_csv('CLOC.csv')\n",
    "NPM = pd.read_csv('NPM.csv')\n",
    "NOS = pd.read_csv('NOS.csv')\n",
    "TNOS = pd.read_csv('TNOS.csv')"
   ]
  },
  {
   "cell_type": "code",
   "execution_count": 59,
   "metadata": {},
   "outputs": [],
   "source": [
    "# To easily run all cells in Jupyter\n",
    "# Cell -> Run All\n",
    "\n",
    "import pandas as pd\n",
    "import scipy\n",
    "from scipy import stats\n",
    "from cliffs_delta import cliffs_delta\n",
    "\n",
    "\n",
    "\n",
    "# Import the metrics data\n",
    "\n",
    "god = pd.read_csv('godclass.csv')\n",
    "feat = pd.read_csv('featureenvy.csv')"
   ]
  },
  {
   "cell_type": "code",
   "execution_count": 60,
   "metadata": {},
   "outputs": [
    {
     "name": "stdout",
     "output_type": "stream",
     "text": [
      "WilcoxonResult(statistic=498.0, pvalue=1.8868805030311587e-161)\n",
      "-0.765010255500746 large\n"
     ]
    }
   ],
   "source": [
    "# LCOM\n",
    "\n",
    "stat= scipy.stats.wilcoxon(god['before'], god['after'], alternative = 'two-sided')\n",
    "print(stat)\n",
    "d, res = cliffs_delta(god['before'], god['after'])\n",
    "\n",
    "print(d,res)"
   ]
  },
  {
   "cell_type": "code",
   "execution_count": 61,
   "metadata": {},
   "outputs": [
    {
     "name": "stdout",
     "output_type": "stream",
     "text": [
      "WilcoxonResult(statistic=415.5, pvalue=1.4507322361486366e-161)\n",
      "-0.7627226826426026 large\n"
     ]
    }
   ],
   "source": [
    "# LCOM\n",
    "\n",
    "stat= scipy.stats.wilcoxon(feat['before'], feat['after'], alternative = 'two-sided')\n",
    "print(stat)\n",
    "d, res = cliffs_delta(feat['before'], feat['after'])\n",
    "\n",
    "print(d,res)"
   ]
  },
  {
   "cell_type": "code",
   "execution_count": 21,
   "metadata": {},
   "outputs": [
    {
     "name": "stdout",
     "output_type": "stream",
     "text": [
      "WilcoxonResult(statistic=105102.0, pvalue=7.725064313054471e-41)\n",
      "0.545850836662566 large\n"
     ]
    }
   ],
   "source": [
    "# LCOM\n",
    "\n",
    "stat= scipy.stats.wilcoxon(LCOM['Before'], LCOM['After'], alternative = 'two-sided')\n",
    "print(stat)\n",
    "d, res = cliffs_delta(LCOM['Before'], LCOM['After'])\n",
    "\n",
    "print(d,res)"
   ]
  },
  {
   "cell_type": "code",
   "execution_count": 22,
   "metadata": {},
   "outputs": [
    {
     "name": "stdout",
     "output_type": "stream",
     "text": [
      "WilcoxonResult(statistic=71168.5, pvalue=9.499164522041476e-76)\n",
      "0.6049613452431403 large\n"
     ]
    }
   ],
   "source": [
    "# CBO\n",
    "\n",
    "stat= scipy.stats.wilcoxon(CBO['Before'], CBO['After'], alternative = 'two-sided')\n",
    "print(stat)\n",
    "d, res = cliffs_delta(CBO['Before'], CBO['After'])\n",
    "\n",
    "print(d,res)"
   ]
  },
  {
   "cell_type": "code",
   "execution_count": 23,
   "metadata": {},
   "outputs": [
    {
     "name": "stdout",
     "output_type": "stream",
     "text": [
      "WilcoxonResult(statistic=82674.5, pvalue=1.2528567558235064e-68)\n",
      "0.5512077811470115 large\n"
     ]
    }
   ],
   "source": [
    "# RFC\n",
    "\n",
    "stat= scipy.stats.wilcoxon(RFC['Before'], RFC['After'], alternative = 'two-sided')\n",
    "print(stat)\n",
    "d, res = cliffs_delta(RFC['Before'], RFC['After'])\n",
    "\n",
    "print(d,res)"
   ]
  },
  {
   "cell_type": "code",
   "execution_count": 24,
   "metadata": {},
   "outputs": [
    {
     "name": "stdout",
     "output_type": "stream",
     "text": [
      "WilcoxonResult(statistic=59582406.0, pvalue=0.0)\n",
      "-0.4741980032310914 large\n"
     ]
    }
   ],
   "source": [
    "# NII\n",
    "\n",
    "stat= scipy.stats.wilcoxon(NII['Before'], NII['After'], alternative = 'two-sided')\n",
    "print(stat)\n",
    "d, res = cliffs_delta(NII['Before'], NII['After'])\n",
    "\n",
    "print(d,res)"
   ]
  },
  {
   "cell_type": "code",
   "execution_count": 25,
   "metadata": {},
   "outputs": [
    {
     "name": "stdout",
     "output_type": "stream",
     "text": [
      "WilcoxonResult(statistic=94330505.5, pvalue=0.0)\n",
      "0.26815984208722166 small\n"
     ]
    }
   ],
   "source": [
    "# NOI\n",
    "\n",
    "stat= scipy.stats.wilcoxon(NOI['Before'], NOI['After'], alternative = 'two-sided')\n",
    "print(stat)\n",
    "d, res = cliffs_delta(NOI['Before'], NOI['After'])\n",
    "\n",
    "print(d,res)"
   ]
  },
  {
   "cell_type": "code",
   "execution_count": 26,
   "metadata": {},
   "outputs": [
    {
     "name": "stdout",
     "output_type": "stream",
     "text": [
      "WilcoxonResult(statistic=12946952.0, pvalue=0.0)\n",
      "0.1477442431623576 small\n"
     ]
    }
   ],
   "source": [
    "# CC\n",
    "\n",
    "stat= scipy.stats.wilcoxon(CC['Before'], CC['After'], alternative = 'two-sided')\n",
    "print(stat)\n",
    "d, res = cliffs_delta(CC['Before'], CC['After'])\n",
    "\n",
    "print(d,res)"
   ]
  },
  {
   "cell_type": "code",
   "execution_count": 27,
   "metadata": {},
   "outputs": [
    {
     "name": "stdout",
     "output_type": "stream",
     "text": [
      "WilcoxonResult(statistic=85947.0, pvalue=6.512444571037323e-70)\n",
      "0.5029798517994314 large\n"
     ]
    }
   ],
   "source": [
    "# WMC\n",
    "\n",
    "stat= scipy.stats.wilcoxon(WMC['Before'], WMC['After'], alternative = 'two-sided')\n",
    "print(stat)\n",
    "d, res = cliffs_delta(WMC['Before'], WMC['After'])\n",
    "\n",
    "print(d,res)"
   ]
  },
  {
   "cell_type": "code",
   "execution_count": 28,
   "metadata": {},
   "outputs": [
    {
     "name": "stdout",
     "output_type": "stream",
     "text": [
      "WilcoxonResult(statistic=95848666.5, pvalue=3.923715420092468e-05)\n",
      "-0.0310364826087172 negligible\n"
     ]
    }
   ],
   "source": [
    "# NL\n",
    "\n",
    "stat= scipy.stats.wilcoxon(NL['Before'], NL['After'], alternative = 'two-sided')\n",
    "print(stat)\n",
    "d, res = cliffs_delta(NL['Before'], NL['After'])\n",
    "\n",
    "print(d,res)"
   ]
  },
  {
   "cell_type": "code",
   "execution_count": 29,
   "metadata": {},
   "outputs": [
    {
     "name": "stdout",
     "output_type": "stream",
     "text": [
      "WilcoxonResult(statistic=96138026.5, pvalue=0.004063185248358576)\n",
      "-0.02921275556952999 negligible\n"
     ]
    }
   ],
   "source": [
    "# NLE\n",
    "\n",
    "stat= scipy.stats.wilcoxon(NLE['Before'], NLE['After'], alternative = 'two-sided')\n",
    "print(stat)\n",
    "d, res = cliffs_delta(NLE['Before'], NLE['After'])\n",
    "\n",
    "print(d,res)"
   ]
  },
  {
   "cell_type": "code",
   "execution_count": 30,
   "metadata": {},
   "outputs": [
    {
     "name": "stdout",
     "output_type": "stream",
     "text": [
      "WilcoxonResult(statistic=152566820.5, pvalue=0.0)\n",
      "0.14452762637143865 negligible\n"
     ]
    }
   ],
   "source": [
    "# HCPL\n",
    "\n",
    "stat= scipy.stats.wilcoxon(HCPL['Before'], HCPL['After'], alternative = 'two-sided')\n",
    "print(stat)\n",
    "d, res = cliffs_delta(HCPL['Before'], HCPL['After'])\n",
    "\n",
    "print(d,res)"
   ]
  },
  {
   "cell_type": "code",
   "execution_count": 31,
   "metadata": {},
   "outputs": [
    {
     "name": "stdout",
     "output_type": "stream",
     "text": [
      "WilcoxonResult(statistic=176424574.5, pvalue=0.0)\n",
      "0.08202913399243038 negligible\n"
     ]
    }
   ],
   "source": [
    "# HDIF\n",
    "\n",
    "stat= scipy.stats.wilcoxon(HDIF['Before'], HDIF['After'], alternative = 'two-sided')\n",
    "print(stat)\n",
    "d, res = cliffs_delta(HDIF['Before'], HDIF['After'])\n",
    "\n",
    "print(d,res)"
   ]
  },
  {
   "cell_type": "code",
   "execution_count": 32,
   "metadata": {},
   "outputs": [
    {
     "name": "stdout",
     "output_type": "stream",
     "text": [
      "WilcoxonResult(statistic=165909708.0, pvalue=2.456446836802564e-271)\n",
      "0.1300871517499655 negligible\n"
     ]
    }
   ],
   "source": [
    "# HEFF\n",
    "\n",
    "stat= scipy.stats.wilcoxon(HEFF['Before'], HEFF['After'], alternative = 'two-sided')\n",
    "print(stat)\n",
    "d, res = cliffs_delta(HEFF['Before'], HEFF['After'])\n",
    "\n",
    "print(d,res)"
   ]
  },
  {
   "cell_type": "code",
   "execution_count": 33,
   "metadata": {},
   "outputs": [
    {
     "name": "stdout",
     "output_type": "stream",
     "text": [
      "WilcoxonResult(statistic=166355159.5, pvalue=1.0771457620912597e-266)\n",
      "0.1300871517499655 negligible\n"
     ]
    }
   ],
   "source": [
    "# HNDB\n",
    "\n",
    "stat= scipy.stats.wilcoxon(HNDB['Before'], HNDB['After'], alternative = 'two-sided')\n",
    "print(stat)\n",
    "d, res = cliffs_delta(HNDB['Before'], HNDB['After'])\n",
    "\n",
    "print(d,res)"
   ]
  },
  {
   "cell_type": "code",
   "execution_count": 34,
   "metadata": {},
   "outputs": [
    {
     "name": "stdout",
     "output_type": "stream",
     "text": [
      "WilcoxonResult(statistic=157304339.5, pvalue=0.0)\n",
      "0.1318296053841009 negligible\n"
     ]
    }
   ],
   "source": [
    "# HPL\n",
    "\n",
    "stat= scipy.stats.wilcoxon(HPL['Before'], HPL['After'], alternative = 'two-sided')\n",
    "print(stat)\n",
    "d, res = cliffs_delta(HPL['Before'], HPL['After'])\n",
    "\n",
    "print(d,res)"
   ]
  },
  {
   "cell_type": "code",
   "execution_count": 35,
   "metadata": {},
   "outputs": [
    {
     "name": "stdout",
     "output_type": "stream",
     "text": [
      "WilcoxonResult(statistic=150405472.5, pvalue=0.0)\n",
      "0.14456357869718647 negligible\n"
     ]
    }
   ],
   "source": [
    "# HPV\n",
    "\n",
    "stat= scipy.stats.wilcoxon(HPV['Before'], HPV['After'], alternative = 'two-sided')\n",
    "print(stat)\n",
    "d, res = cliffs_delta(HPV['Before'], HPV['After'])\n",
    "\n",
    "print(d,res)"
   ]
  },
  {
   "cell_type": "code",
   "execution_count": 36,
   "metadata": {},
   "outputs": [
    {
     "name": "stdout",
     "output_type": "stream",
     "text": [
      "WilcoxonResult(statistic=165910125.5, pvalue=2.481286526352028e-271)\n",
      "0.1300871517499655 negligible\n"
     ]
    }
   ],
   "source": [
    "# HTRP\n",
    "\n",
    "stat= scipy.stats.wilcoxon(HTRP['Before'], HTRP['After'], alternative = 'two-sided')\n",
    "print(stat)\n",
    "d, res = cliffs_delta(HTRP['Before'], HTRP['After'])\n",
    "\n",
    "print(d,res)"
   ]
  },
  {
   "cell_type": "code",
   "execution_count": 37,
   "metadata": {},
   "outputs": [
    {
     "name": "stdout",
     "output_type": "stream",
     "text": [
      "WilcoxonResult(statistic=158165715.0, pvalue=0.0)\n",
      "0.1351390755452998 negligible\n"
     ]
    }
   ],
   "source": [
    "# HVOL\n",
    "\n",
    "stat= scipy.stats.wilcoxon(HVOL['Before'], HVOL['After'], alternative = 'two-sided')\n",
    "print(stat)\n",
    "d, res = cliffs_delta(HVOL['Before'], HVOL['After'])\n",
    "\n",
    "print(d,res)"
   ]
  },
  {
   "cell_type": "code",
   "execution_count": 38,
   "metadata": {},
   "outputs": [
    {
     "name": "stdout",
     "output_type": "stream",
     "text": [
      "WilcoxonResult(statistic=169695898.0, pvalue=7.230359460059728e-227)\n",
      "-0.13574171275070926 negligible\n"
     ]
    }
   ],
   "source": [
    "# MIMS\n",
    "\n",
    "stat= scipy.stats.wilcoxon(MIMS['Before'], MIMS['After'], alternative = 'two-sided')\n",
    "print(stat)\n",
    "d, res = cliffs_delta(MIMS['Before'], MIMS['After'])\n",
    "\n",
    "print(d,res)"
   ]
  },
  {
   "cell_type": "code",
   "execution_count": 39,
   "metadata": {},
   "outputs": [
    {
     "name": "stdout",
     "output_type": "stream",
     "text": [
      "WilcoxonResult(statistic=169695836.0, pvalue=7.2204714602003785e-227)\n",
      "-0.13574235346128918 negligible\n"
     ]
    }
   ],
   "source": [
    "# MI\n",
    "\n",
    "stat= scipy.stats.wilcoxon(MI['Before'], MI['After'], alternative = 'two-sided')\n",
    "print(stat)\n",
    "d, res = cliffs_delta(MI['Before'], MI['After'])\n",
    "\n",
    "print(d,res)"
   ]
  },
  {
   "cell_type": "code",
   "execution_count": 40,
   "metadata": {},
   "outputs": [
    {
     "name": "stdout",
     "output_type": "stream",
     "text": [
      "WilcoxonResult(statistic=160732165.0, pvalue=0.0)\n",
      "-0.16590457330255176 small\n"
     ]
    }
   ],
   "source": [
    "# MISEI\n",
    "\n",
    "stat= scipy.stats.wilcoxon(MISEI['Before'], MISEI['After'], alternative = 'two-sided')\n",
    "print(stat)\n",
    "d, res = cliffs_delta(MISEI['Before'], MISEI['After'])\n",
    "\n",
    "print(d,res)"
   ]
  },
  {
   "cell_type": "code",
   "execution_count": 41,
   "metadata": {},
   "outputs": [
    {
     "name": "stdout",
     "output_type": "stream",
     "text": [
      "WilcoxonResult(statistic=160762015.0, pvalue=0.0)\n",
      "-0.16590460737121038 small\n"
     ]
    }
   ],
   "source": [
    "# MISM\n",
    "\n",
    "stat= scipy.stats.wilcoxon(MISM['Before'], MISM['After'], alternative = 'two-sided')\n",
    "print(stat)\n",
    "d, res = cliffs_delta(MISM['Before'], MISM['After'])\n",
    "\n",
    "print(d,res)"
   ]
  },
  {
   "cell_type": "code",
   "execution_count": 42,
   "metadata": {},
   "outputs": [
    {
     "name": "stdout",
     "output_type": "stream",
     "text": [
      "WilcoxonResult(statistic=3272.5, pvalue=3.819016419327023e-199)\n",
      "-0.6058870844973647 large\n"
     ]
    }
   ],
   "source": [
    "# DIT\n",
    "\n",
    "stat= scipy.stats.wilcoxon(DIT['Before'], DIT['After'], alternative = 'two-sided')\n",
    "print(stat)\n",
    "d, res = cliffs_delta(DIT['Before'], DIT['After'])\n",
    "\n",
    "print(d,res)"
   ]
  },
  {
   "cell_type": "code",
   "execution_count": 43,
   "metadata": {},
   "outputs": [
    {
     "name": "stdout",
     "output_type": "stream",
     "text": [
      "WilcoxonResult(statistic=18083.5, pvalue=3.613438658460603e-130)\n",
      "0.8357080259536143 large\n"
     ]
    }
   ],
   "source": [
    "# NOC\n",
    "\n",
    "stat= scipy.stats.wilcoxon(NOC['Before'], NOC['After'], alternative = 'two-sided')\n",
    "print(stat)\n",
    "d, res = cliffs_delta(NOC['Before'], NOC['After'])\n",
    "\n",
    "print(d,res)"
   ]
  },
  {
   "cell_type": "code",
   "execution_count": 44,
   "metadata": {},
   "outputs": [
    {
     "name": "stdout",
     "output_type": "stream",
     "text": [
      "WilcoxonResult(statistic=3700.0, pvalue=2.378849868256211e-196)\n",
      "-0.6328548975720946 large\n"
     ]
    }
   ],
   "source": [
    "# NOA\n",
    "\n",
    "stat= scipy.stats.wilcoxon(NOA['Before'], NOA['After'], alternative = 'two-sided')\n",
    "print(stat)\n",
    "d, res = cliffs_delta(NOA['Before'], NOA['After'])\n",
    "\n",
    "print(d,res)"
   ]
  },
  {
   "cell_type": "code",
   "execution_count": 54,
   "metadata": {},
   "outputs": [
    {
     "name": "stdout",
     "output_type": "stream",
     "text": [
      "WilcoxonResult(statistic=136653669.5, pvalue=0.0)\n",
      "0.1489059606571476 small\n"
     ]
    }
   ],
   "source": [
    "# LOC\n",
    "\n",
    "stat= scipy.stats.wilcoxon(LOC['Before'], LOC['After'], alternative = 'two-sided')\n",
    "print(stat)\n",
    "d, res = cliffs_delta(LOC['Before'], LOC['After'])\n",
    "\n",
    "print(d,res)"
   ]
  },
  {
   "cell_type": "code",
   "execution_count": 46,
   "metadata": {},
   "outputs": [
    {
     "name": "stdout",
     "output_type": "stream",
     "text": [
      "WilcoxonResult(statistic=134200476.5, pvalue=0.0)\n",
      "0.16021756816448735 small\n"
     ]
    }
   ],
   "source": [
    "# TLOC\n",
    "\n",
    "stat= scipy.stats.wilcoxon(TLOC['Before'], TLOC['After'], alternative = 'two-sided')\n",
    "print(stat)\n",
    "d, res = cliffs_delta(TLOC['Before'], TLOC['After'])\n",
    "\n",
    "print(d,res)"
   ]
  },
  {
   "cell_type": "code",
   "execution_count": 47,
   "metadata": {},
   "outputs": [
    {
     "name": "stdout",
     "output_type": "stream",
     "text": [
      "WilcoxonResult(statistic=139986100.5, pvalue=0.0)\n",
      "0.13587118415718055 negligible\n"
     ]
    }
   ],
   "source": [
    "# LLOC\n",
    "\n",
    "stat= scipy.stats.wilcoxon(LLOC['Before'], LLOC['After'], alternative = 'two-sided')\n",
    "print(stat)\n",
    "d, res = cliffs_delta(LLOC['Before'], LLOC['After'])\n",
    "\n",
    "print(d,res)"
   ]
  },
  {
   "cell_type": "code",
   "execution_count": 48,
   "metadata": {},
   "outputs": [
    {
     "name": "stdout",
     "output_type": "stream",
     "text": [
      "WilcoxonResult(statistic=135129756.5, pvalue=0.0)\n",
      "0.15053302756748352 small\n"
     ]
    }
   ],
   "source": [
    "# TLLOC\n",
    "\n",
    "stat= scipy.stats.wilcoxon(TLLOC['Before'], TLLOC['After'], alternative = 'two-sided')\n",
    "print(stat)\n",
    "d, res = cliffs_delta(TLLOC['Before'], TLLOC['After'])\n",
    "\n",
    "print(d,res)"
   ]
  },
  {
   "cell_type": "code",
   "execution_count": 49,
   "metadata": {},
   "outputs": [
    {
     "name": "stdout",
     "output_type": "stream",
     "text": [
      "WilcoxonResult(statistic=61334768.0, pvalue=1.4390098001920787e-05)\n",
      "-0.027733194061022808 negligible\n"
     ]
    }
   ],
   "source": [
    "# CLOC\n",
    "\n",
    "stat= scipy.stats.wilcoxon(CLOC['Before'], CLOC['After'], alternative = 'two-sided')\n",
    "print(stat)\n",
    "d, res = cliffs_delta(CLOC['Before'], CLOC['After'])\n",
    "\n",
    "print(d,res)"
   ]
  },
  {
   "cell_type": "code",
   "execution_count": 50,
   "metadata": {},
   "outputs": [
    {
     "name": "stdout",
     "output_type": "stream",
     "text": [
      "WilcoxonResult(statistic=895.0, pvalue=4.42352808660295e-193)\n",
      "-0.5076360630983876 large\n"
     ]
    }
   ],
   "source": [
    "# NPM\n",
    "\n",
    "stat= scipy.stats.wilcoxon(NPM['Before'], NPM['After'], alternative = 'two-sided')\n",
    "print(stat)\n",
    "d, res = cliffs_delta(NPM['Before'], NPM['After'])\n",
    "\n",
    "print(d,res)"
   ]
  },
  {
   "cell_type": "code",
   "execution_count": 51,
   "metadata": {},
   "outputs": [
    {
     "name": "stdout",
     "output_type": "stream",
     "text": [
      "WilcoxonResult(statistic=139745703.5, pvalue=0.0)\n",
      "0.07108799937075791 negligible\n"
     ]
    }
   ],
   "source": [
    "# NOS\n",
    "\n",
    "stat= scipy.stats.wilcoxon(NOS['Before'], NOS['After'], alternative = 'two-sided')\n",
    "print(stat)\n",
    "d, res = cliffs_delta(NOS['Before'], NOS['After'])\n",
    "\n",
    "print(d,res)"
   ]
  },
  {
   "cell_type": "code",
   "execution_count": 52,
   "metadata": {},
   "outputs": [
    {
     "name": "stdout",
     "output_type": "stream",
     "text": [
      "WilcoxonResult(statistic=138605559.0, pvalue=0.0)\n",
      "0.08258528259854513 negligible\n"
     ]
    }
   ],
   "source": [
    "# TNOS\n",
    "\n",
    "stat= scipy.stats.wilcoxon(TNOS['Before'], TNOS['After'], alternative = 'two-sided')\n",
    "print(stat)\n",
    "d, res = cliffs_delta(TNOS['Before'], TNOS['After'])\n",
    "\n",
    "print(d,res)"
   ]
  }
 ],
 "metadata": {
  "kernelspec": {
   "display_name": "Python 3 (ipykernel)",
   "language": "python",
   "name": "python3"
  },
  "language_info": {
   "codemirror_mode": {
    "name": "ipython",
    "version": 3
   },
   "file_extension": ".py",
   "mimetype": "text/x-python",
   "name": "python",
   "nbconvert_exporter": "python",
   "pygments_lexer": "ipython3",
   "version": "3.9.12"
  }
 },
 "nbformat": 4,
 "nbformat_minor": 2
}
